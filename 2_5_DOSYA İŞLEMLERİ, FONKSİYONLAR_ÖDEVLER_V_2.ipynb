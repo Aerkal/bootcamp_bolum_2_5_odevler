{
 "cells": [
  {
   "cell_type": "code",
   "execution_count": 75,
   "metadata": {
    "scrolled": true
   },
   "outputs": [
    {
     "name": "stdout",
     "output_type": "stream",
     "text": [
      "bir sayı girin:47\n",
      "47 asal bir sayıdır\n"
     ]
    }
   ],
   "source": [
    "# BÖLÜM 2_5 ÖDEV NO:2\n",
    "# Parametre olarak girilen bir sayının asal sayı olup olmadığını belirten bir fonksiyon yazın...\n",
    "\n",
    "\n",
    "sayi=int(input(\"bir sayı girin:\"))\n",
    "\n",
    "liste=[]\n",
    "\n",
    "\n",
    "for y in range (2,(sayi-1)):\n",
    "   \n",
    "    result=lambda y: True if sayi%y==0 else False\n",
    "    liste.append(result(y))\n",
    "    \n",
    "if any(liste):\n",
    "            print(\"{} asal bir sayı değildir\".format(sayi))\n",
    "else:\n",
    "            print(\"{} asal bir sayıdır\".format(sayi)) "
   ]
  },
  {
   "cell_type": "code",
   "execution_count": 256,
   "metadata": {},
   "outputs": [
    {
     "name": "stdout",
     "output_type": "stream",
     "text": [
      "[1, 2, 3, 4]\n"
     ]
    }
   ],
   "source": [
    "# BÖLÜM 2_5 ÖDEV NO:3\n",
    "# Parametre olarak girilecek listenin elemanlarını yeni bir listeye her değer sadece bir kere \n",
    "# geçecek şekilde aktaran bir fonksiyon yazın. Normalde bu işlemi set() komutu ile yapabiliriz \n",
    "# ama bu seferlik bu komutu kullanmayalım.\n",
    "\n",
    "# Örnek : uniq_liste([1,2,2,3,3,4,4]) = [1,2,3,4]\n",
    "\n",
    "rakamlar = [1, 2, 2, 3, 3, 4, 4]\n",
    "\n",
    "liste=[]\n",
    "liste_1=[]   \n",
    "list(map((lambda x: liste.append(x) if not x in liste else liste_1.append(x)), rakamlar))\n",
    "\n",
    "print(liste)\n"
   ]
  },
  {
   "cell_type": "code",
   "execution_count": 336,
   "metadata": {},
   "outputs": [
    {
     "name": "stdout",
     "output_type": "stream",
     "text": [
      "doğum tarihinizi yıl olarak girin:1980\n",
      "doğum tarihinizi ay olarak girin:10\n",
      "doğum tarihinizi gün olarak girin:26\n",
      "siz 38 yaş, 6 ay ve 25 günlüksünüz!!\n"
     ]
    }
   ],
   "source": [
    "# BÖLÜM 2_5 ÖDEV NO:4\n",
    "# Python'da hazır birçok modül bulunmaktadır. Zaman ile ilgili modüllerden birisini import ederek, \n",
    "# parametre olarak doğum tarihi alan ve yaşı döndüren bir fonksiyon yazınız.\n",
    "\n",
    "d_yili=int(input(\"doğum tarihinizi yıl olarak girin:\"))\n",
    "d_ayi=int(input(\"doğum tarihinizi ay olarak girin:\"))\n",
    "d_gunu=int(input(\"doğum tarihinizi gün olarak girin:\"))\n",
    "\n",
    "bu_yil=int(strftime(\"%Y\"))\n",
    "bu_ay=int(strftime(\"%m\"))\n",
    "bu_gun=int(strftime(\"%d\"))\n",
    "\n",
    "yas=int((bu_yil)-(d_yili))\n",
    "ay=int((bu_ay)-(d_ayi))\n",
    "gun=int((bu_gun)-(d_gunu))\n",
    "\n",
    "if ay<0:\n",
    "    ay=int(12+ay)\n",
    "    yas=int(yas-1)\n",
    "    \n",
    "if gun<0:\n",
    "    gun=int(30+gun)\n",
    "    ay=int(ay-1)\n",
    "\n",
    "print(\"Siz; {} yaş, {} ay ve {} günlüksünüz!!\".format(yas,ay,gun))\n"
   ]
  }
 ],
 "metadata": {
  "kernelspec": {
   "display_name": "Python 3",
   "language": "python",
   "name": "python3"
  },
  "language_info": {
   "codemirror_mode": {
    "name": "ipython",
    "version": 3
   },
   "file_extension": ".py",
   "mimetype": "text/x-python",
   "name": "python",
   "nbconvert_exporter": "python",
   "pygments_lexer": "ipython3",
   "version": "3.7.2"
  }
 },
 "nbformat": 4,
 "nbformat_minor": 2
}
